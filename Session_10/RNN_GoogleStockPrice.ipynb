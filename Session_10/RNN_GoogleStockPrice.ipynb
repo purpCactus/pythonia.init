{
  "nbformat": 4,
  "nbformat_minor": 0,
  "metadata": {
    "colab": {
      "name": "RNN-GoogleStockPrice.ipynb",
      "provenance": [],
      "collapsed_sections": [],
      "authorship_tag": "ABX9TyNGn+KJH6un/29pB96AgFJc",
      "include_colab_link": true
    },
    "kernelspec": {
      "name": "python3",
      "display_name": "Python 3"
    },
    "language_info": {
      "name": "python"
    },
    "accelerator": "TPU"
  },
  "cells": [
    {
      "cell_type": "markdown",
      "metadata": {
        "id": "view-in-github",
        "colab_type": "text"
      },
      "source": [
        "<a href=\"https://colab.research.google.com/github/purpCactus/pythonia.init/blob/main/Session_10/RNN_GoogleStockPrice.ipynb\" target=\"_parent\"><img src=\"https://colab.research.google.com/assets/colab-badge.svg\" alt=\"Open In Colab\"/></a>"
      ]
    },
    {
      "cell_type": "code",
      "metadata": {
        "id": "4n9JDWk4ZUEI"
      },
      "source": [
        "# RNN - Google Stock price estimation\n",
        "import numpy as np\n",
        "import matplotlib.pyplot as plt\n",
        "import pandas as pd"
      ],
      "execution_count": null,
      "outputs": []
    },
    {
      "cell_type": "code",
      "metadata": {
        "id": "YmAkDc16cN_z"
      },
      "source": [
        "# Dataset import\n",
        "dataset_train = pd.read_csv('Google_Stock_Price_Train.csv')\n",
        "training_set = dataset_train.iloc[:,1:2].values\n",
        "dataset_test = pd.read_csv('Google_Stock_Price_Test.csv')\n",
        "test_set = dataset_test.iloc[:,1:2].values\n",
        "whole_set = np.concatenate((training_set, test_set))"
      ],
      "execution_count": null,
      "outputs": []
    },
    {
      "cell_type": "code",
      "metadata": {
        "id": "pfm9IeuBdRr8"
      },
      "source": [
        "# Scale data into 0-1 range\n",
        "from sklearn.preprocessing import MinMaxScaler\n",
        "sc = MinMaxScaler(feature_range=(0, 1))\n",
        "whole_set_scaled = sc.fit_transform(whole_set)"
      ],
      "execution_count": null,
      "outputs": []
    },
    {
      "cell_type": "code",
      "metadata": {
        "id": "K7IPx5noeGJc"
      },
      "source": [
        "# Train set splitting\n",
        "x_train = []\n",
        "x_test = []\n",
        "y_train = []\n",
        "y_test = []\n",
        "for i in range(60, 1258):\n",
        "  x_train.append(whole_set_scaled[i-60:i, 0:1])\n",
        "  y_train.append(whole_set_scaled[i, 0:1])\n",
        "for i in range(1318, 1338):\n",
        "  x_test.append(whole_set_scaled[i-60:i, 0:1])\n",
        "  y_test.append(whole_set_scaled[i, 0:1])\n"
      ],
      "execution_count": null,
      "outputs": []
    },
    {
      "cell_type": "code",
      "metadata": {
        "id": "z0p1Y3qbfQ2m"
      },
      "source": [
        "# reforming to NP array\n",
        "x_train, x_test, y_train, y_test = np.array(x_train), np.array(x_test), np.array(y_train), np.array(y_test)"
      ],
      "execution_count": null,
      "outputs": []
    },
    {
      "cell_type": "code",
      "metadata": {
        "id": "dDgLRoxHit5U"
      },
      "source": [
        "# Reshaping to 3D tensor\n",
        "# it's not necessary, the arrays are in 3D already.\n",
        "# x_train = np.reshape(x_train,(x_train.shape[0], x_train.shape[1], 1))\n",
        "# x_test = np.reshape(x_test, (x_test.shape[0], x_test.shape[1], 1))"
      ],
      "execution_count": null,
      "outputs": []
    },
    {
      "cell_type": "code",
      "metadata": {
        "id": "VLkLFZ88fnZi"
      },
      "source": [
        "# Imporing libs\n",
        "from keras.models import Sequential\n",
        "from keras.layers import Dense, LSTM, Dropout"
      ],
      "execution_count": null,
      "outputs": []
    },
    {
      "cell_type": "code",
      "metadata": {
        "id": "ZTgHT-dFgdkU"
      },
      "source": [
        "# Preparing the sequential model\n",
        "model = Sequential()"
      ],
      "execution_count": null,
      "outputs": []
    },
    {
      "cell_type": "code",
      "metadata": {
        "id": "kaXDhWx1gyBo"
      },
      "source": [
        "# LSTM first layer\n",
        "model.add(LSTM(units=50, return_sequences=True, input_shape=(x_train.shape[1], 1)))\n",
        "model.add(Dropout(0.20))\n",
        "# LSTM second layer\n",
        "model.add(LSTM(units=50, return_sequences=True))\n",
        "model.add(Dropout(0.20))\n",
        "# LSTM third layer\n",
        "model.add(LSTM(units=50, return_sequences=True))\n",
        "model.add(Dropout(0.20))\n",
        "# LSTM forth layer\n",
        "model.add(LSTM(units=50, return_sequences=False))\n",
        "model.add(Dropout(0.20))\n",
        "# Dense ourput layer\n",
        "model.add(Dense(units=1))"
      ],
      "execution_count": null,
      "outputs": []
    },
    {
      "cell_type": "code",
      "metadata": {
        "colab": {
          "base_uri": "https://localhost:8080/"
        },
        "id": "SboW6ryUj7JU",
        "outputId": "281f27fc-dd60-427e-ef79-26109ed3d250"
      },
      "source": [
        "# Compile\n",
        "model.compile(optimizer='adam', loss='mean_squared_error')\n",
        "# Fit\n",
        "model.fit(x_train, y_train, epochs=100, batch_size=20, validation_data=(x_test, y_test))"
      ],
      "execution_count": null,
      "outputs": [
        {
          "output_type": "stream",
          "text": [
            "Epoch 1/100\n",
            "60/60 [==============================] - 26s 136ms/step - loss: 0.0610 - val_loss: 4.9586e-04\n",
            "Epoch 2/100\n",
            "60/60 [==============================] - 6s 102ms/step - loss: 0.0059 - val_loss: 0.0026\n",
            "Epoch 3/100\n",
            "60/60 [==============================] - 6s 102ms/step - loss: 0.0046 - val_loss: 5.9018e-04\n",
            "Epoch 4/100\n",
            "60/60 [==============================] - 6s 102ms/step - loss: 0.0054 - val_loss: 0.0091\n",
            "Epoch 5/100\n",
            "60/60 [==============================] - 6s 101ms/step - loss: 0.0041 - val_loss: 0.0043\n",
            "Epoch 6/100\n",
            "60/60 [==============================] - 6s 102ms/step - loss: 0.0052 - val_loss: 0.0015\n",
            "Epoch 7/100\n",
            "60/60 [==============================] - 6s 103ms/step - loss: 0.0041 - val_loss: 0.0038\n",
            "Epoch 8/100\n",
            "60/60 [==============================] - 6s 103ms/step - loss: 0.0030 - val_loss: 7.1731e-04\n",
            "Epoch 9/100\n",
            "60/60 [==============================] - 6s 102ms/step - loss: 0.0037 - val_loss: 0.0011\n",
            "Epoch 10/100\n",
            "60/60 [==============================] - 6s 102ms/step - loss: 0.0036 - val_loss: 0.0018\n",
            "Epoch 11/100\n",
            "60/60 [==============================] - 6s 102ms/step - loss: 0.0036 - val_loss: 0.0012\n",
            "Epoch 12/100\n",
            "60/60 [==============================] - 6s 103ms/step - loss: 0.0037 - val_loss: 5.1162e-04\n",
            "Epoch 13/100\n",
            "60/60 [==============================] - 6s 103ms/step - loss: 0.0036 - val_loss: 0.0077\n",
            "Epoch 14/100\n",
            "60/60 [==============================] - 6s 102ms/step - loss: 0.0036 - val_loss: 5.2214e-04\n",
            "Epoch 15/100\n",
            "60/60 [==============================] - 6s 103ms/step - loss: 0.0035 - val_loss: 6.6189e-04\n",
            "Epoch 16/100\n",
            "60/60 [==============================] - 6s 103ms/step - loss: 0.0036 - val_loss: 0.0071\n",
            "Epoch 17/100\n",
            "60/60 [==============================] - 7s 118ms/step - loss: 0.0030 - val_loss: 0.0012\n",
            "Epoch 18/100\n",
            "60/60 [==============================] - 6s 103ms/step - loss: 0.0029 - val_loss: 0.0018\n",
            "Epoch 19/100\n",
            "60/60 [==============================] - 6s 103ms/step - loss: 0.0029 - val_loss: 0.0025\n",
            "Epoch 20/100\n",
            "60/60 [==============================] - 6s 102ms/step - loss: 0.0030 - val_loss: 0.0021\n",
            "Epoch 21/100\n",
            "60/60 [==============================] - 6s 104ms/step - loss: 0.0025 - val_loss: 5.4023e-04\n",
            "Epoch 22/100\n",
            "60/60 [==============================] - 6s 103ms/step - loss: 0.0025 - val_loss: 7.9772e-04\n",
            "Epoch 23/100\n",
            "60/60 [==============================] - 7s 112ms/step - loss: 0.0025 - val_loss: 0.0010\n",
            "Epoch 24/100\n",
            "60/60 [==============================] - 6s 104ms/step - loss: 0.0028 - val_loss: 0.0015\n",
            "Epoch 25/100\n",
            "60/60 [==============================] - 6s 102ms/step - loss: 0.0026 - val_loss: 0.0031\n",
            "Epoch 26/100\n",
            "60/60 [==============================] - 6s 103ms/step - loss: 0.0027 - val_loss: 0.0013\n",
            "Epoch 27/100\n",
            "60/60 [==============================] - 6s 102ms/step - loss: 0.0026 - val_loss: 0.0018\n",
            "Epoch 28/100\n",
            "60/60 [==============================] - 6s 101ms/step - loss: 0.0022 - val_loss: 8.4585e-04\n",
            "Epoch 29/100\n",
            "60/60 [==============================] - 6s 102ms/step - loss: 0.0022 - val_loss: 5.0951e-04\n",
            "Epoch 30/100\n",
            "60/60 [==============================] - 6s 102ms/step - loss: 0.0024 - val_loss: 0.0020\n",
            "Epoch 31/100\n",
            "60/60 [==============================] - 6s 103ms/step - loss: 0.0025 - val_loss: 0.0087\n",
            "Epoch 32/100\n",
            "60/60 [==============================] - 6s 103ms/step - loss: 0.0026 - val_loss: 6.1466e-04\n",
            "Epoch 33/100\n",
            "60/60 [==============================] - 6s 103ms/step - loss: 0.0022 - val_loss: 0.0028\n",
            "Epoch 34/100\n",
            "60/60 [==============================] - 6s 104ms/step - loss: 0.0023 - val_loss: 0.0016\n",
            "Epoch 35/100\n",
            "60/60 [==============================] - 6s 103ms/step - loss: 0.0021 - val_loss: 0.0015\n",
            "Epoch 36/100\n",
            "60/60 [==============================] - 6s 103ms/step - loss: 0.0019 - val_loss: 0.0026\n",
            "Epoch 37/100\n",
            "60/60 [==============================] - 6s 102ms/step - loss: 0.0022 - val_loss: 0.0016\n",
            "Epoch 38/100\n",
            "60/60 [==============================] - 6s 102ms/step - loss: 0.0018 - val_loss: 9.2031e-04\n",
            "Epoch 39/100\n",
            "60/60 [==============================] - 6s 103ms/step - loss: 0.0020 - val_loss: 0.0103\n",
            "Epoch 40/100\n",
            "60/60 [==============================] - 6s 105ms/step - loss: 0.0024 - val_loss: 5.1194e-04\n",
            "Epoch 41/100\n",
            "60/60 [==============================] - 6s 103ms/step - loss: 0.0019 - val_loss: 6.6722e-04\n",
            "Epoch 42/100\n",
            "60/60 [==============================] - 6s 105ms/step - loss: 0.0022 - val_loss: 7.6297e-04\n",
            "Epoch 43/100\n",
            "60/60 [==============================] - 6s 104ms/step - loss: 0.0020 - val_loss: 0.0019\n",
            "Epoch 44/100\n",
            "60/60 [==============================] - 6s 104ms/step - loss: 0.0019 - val_loss: 0.0012\n",
            "Epoch 45/100\n",
            "60/60 [==============================] - 6s 104ms/step - loss: 0.0018 - val_loss: 8.3285e-04\n",
            "Epoch 46/100\n",
            "60/60 [==============================] - 6s 103ms/step - loss: 0.0019 - val_loss: 0.0029\n",
            "Epoch 47/100\n",
            "60/60 [==============================] - 6s 103ms/step - loss: 0.0021 - val_loss: 7.4560e-04\n",
            "Epoch 48/100\n",
            "60/60 [==============================] - 6s 104ms/step - loss: 0.0018 - val_loss: 0.0028\n",
            "Epoch 49/100\n",
            "60/60 [==============================] - 6s 103ms/step - loss: 0.0019 - val_loss: 0.0068\n",
            "Epoch 50/100\n",
            "60/60 [==============================] - 6s 103ms/step - loss: 0.0019 - val_loss: 0.0011\n",
            "Epoch 51/100\n",
            "60/60 [==============================] - 6s 103ms/step - loss: 0.0016 - val_loss: 5.2479e-04\n",
            "Epoch 52/100\n",
            "60/60 [==============================] - 6s 102ms/step - loss: 0.0017 - val_loss: 6.4085e-04\n",
            "Epoch 53/100\n",
            "60/60 [==============================] - 6s 104ms/step - loss: 0.0015 - val_loss: 0.0019\n",
            "Epoch 54/100\n",
            "60/60 [==============================] - 6s 104ms/step - loss: 0.0019 - val_loss: 0.0028\n",
            "Epoch 55/100\n",
            "60/60 [==============================] - 6s 103ms/step - loss: 0.0019 - val_loss: 4.9317e-04\n",
            "Epoch 56/100\n",
            "60/60 [==============================] - 6s 104ms/step - loss: 0.0016 - val_loss: 0.0033\n",
            "Epoch 57/100\n",
            "60/60 [==============================] - 6s 102ms/step - loss: 0.0017 - val_loss: 4.8320e-04\n",
            "Epoch 58/100\n",
            "60/60 [==============================] - 6s 103ms/step - loss: 0.0016 - val_loss: 0.0012\n",
            "Epoch 59/100\n",
            "60/60 [==============================] - 6s 104ms/step - loss: 0.0017 - val_loss: 0.0012\n",
            "Epoch 60/100\n",
            "60/60 [==============================] - 6s 103ms/step - loss: 0.0014 - val_loss: 4.8389e-04\n",
            "Epoch 61/100\n",
            "60/60 [==============================] - 6s 103ms/step - loss: 0.0013 - val_loss: 5.0119e-04\n",
            "Epoch 62/100\n",
            "60/60 [==============================] - 6s 103ms/step - loss: 0.0017 - val_loss: 0.0024\n",
            "Epoch 63/100\n",
            "60/60 [==============================] - 6s 102ms/step - loss: 0.0018 - val_loss: 0.0014\n",
            "Epoch 64/100\n",
            "60/60 [==============================] - 6s 103ms/step - loss: 0.0014 - val_loss: 5.4392e-04\n",
            "Epoch 65/100\n",
            "60/60 [==============================] - 6s 102ms/step - loss: 0.0015 - val_loss: 5.8588e-04\n",
            "Epoch 66/100\n",
            "60/60 [==============================] - 6s 102ms/step - loss: 0.0015 - val_loss: 5.5957e-04\n",
            "Epoch 67/100\n",
            "60/60 [==============================] - 6s 103ms/step - loss: 0.0014 - val_loss: 0.0013\n",
            "Epoch 68/100\n",
            "60/60 [==============================] - 6s 102ms/step - loss: 0.0017 - val_loss: 9.1005e-04\n",
            "Epoch 69/100\n",
            "60/60 [==============================] - 6s 103ms/step - loss: 0.0014 - val_loss: 4.4356e-04\n",
            "Epoch 70/100\n",
            "60/60 [==============================] - 6s 103ms/step - loss: 0.0016 - val_loss: 0.0014\n",
            "Epoch 71/100\n",
            "60/60 [==============================] - 6s 103ms/step - loss: 0.0014 - val_loss: 7.3314e-04\n",
            "Epoch 72/100\n",
            "60/60 [==============================] - 6s 103ms/step - loss: 0.0013 - val_loss: 4.3205e-04\n",
            "Epoch 73/100\n",
            "60/60 [==============================] - 6s 103ms/step - loss: 0.0012 - val_loss: 0.0012\n",
            "Epoch 74/100\n",
            "60/60 [==============================] - 6s 102ms/step - loss: 0.0013 - val_loss: 0.0014\n",
            "Epoch 75/100\n",
            "60/60 [==============================] - 6s 103ms/step - loss: 0.0012 - val_loss: 9.1973e-04\n",
            "Epoch 76/100\n",
            "60/60 [==============================] - 6s 103ms/step - loss: 0.0011 - val_loss: 6.4195e-04\n",
            "Epoch 77/100\n",
            "60/60 [==============================] - 6s 102ms/step - loss: 0.0012 - val_loss: 0.0052\n",
            "Epoch 78/100\n",
            "60/60 [==============================] - 6s 102ms/step - loss: 0.0013 - val_loss: 0.0018\n",
            "Epoch 79/100\n",
            "60/60 [==============================] - 6s 103ms/step - loss: 0.0011 - val_loss: 5.3743e-04\n",
            "Epoch 80/100\n",
            "60/60 [==============================] - 6s 103ms/step - loss: 0.0013 - val_loss: 0.0010\n",
            "Epoch 81/100\n",
            "60/60 [==============================] - 6s 103ms/step - loss: 0.0014 - val_loss: 7.5023e-04\n",
            "Epoch 82/100\n",
            "60/60 [==============================] - 6s 104ms/step - loss: 0.0012 - val_loss: 0.0018\n",
            "Epoch 83/100\n",
            "60/60 [==============================] - 6s 103ms/step - loss: 0.0012 - val_loss: 4.6847e-04\n",
            "Epoch 84/100\n",
            "60/60 [==============================] - 6s 103ms/step - loss: 0.0012 - val_loss: 0.0029\n",
            "Epoch 85/100\n",
            "60/60 [==============================] - 6s 103ms/step - loss: 0.0011 - val_loss: 0.0017\n",
            "Epoch 86/100\n",
            "60/60 [==============================] - 6s 103ms/step - loss: 0.0012 - val_loss: 0.0017\n",
            "Epoch 87/100\n",
            "60/60 [==============================] - 6s 101ms/step - loss: 0.0012 - val_loss: 0.0024\n",
            "Epoch 88/100\n",
            "60/60 [==============================] - 6s 103ms/step - loss: 0.0010 - val_loss: 9.3978e-04\n",
            "Epoch 89/100\n",
            "60/60 [==============================] - 6s 102ms/step - loss: 0.0011 - val_loss: 0.0023\n",
            "Epoch 90/100\n",
            "60/60 [==============================] - 6s 103ms/step - loss: 0.0013 - val_loss: 9.2470e-04\n",
            "Epoch 91/100\n",
            "60/60 [==============================] - 6s 103ms/step - loss: 0.0013 - val_loss: 3.3239e-04\n",
            "Epoch 92/100\n",
            "60/60 [==============================] - 6s 103ms/step - loss: 0.0010 - val_loss: 0.0021\n",
            "Epoch 93/100\n",
            "60/60 [==============================] - 6s 103ms/step - loss: 0.0014 - val_loss: 3.3000e-04\n",
            "Epoch 94/100\n",
            "60/60 [==============================] - 6s 103ms/step - loss: 0.0013 - val_loss: 7.0460e-04\n",
            "Epoch 95/100\n",
            "60/60 [==============================] - 6s 104ms/step - loss: 0.0014 - val_loss: 0.0011\n",
            "Epoch 96/100\n",
            "60/60 [==============================] - 6s 105ms/step - loss: 0.0013 - val_loss: 4.0153e-04\n",
            "Epoch 97/100\n",
            "60/60 [==============================] - 6s 103ms/step - loss: 0.0013 - val_loss: 0.0010\n",
            "Epoch 98/100\n",
            "60/60 [==============================] - 6s 103ms/step - loss: 0.0011 - val_loss: 0.0020\n",
            "Epoch 99/100\n",
            "60/60 [==============================] - 6s 103ms/step - loss: 0.0012 - val_loss: 5.5828e-04\n",
            "Epoch 100/100\n",
            "60/60 [==============================] - 6s 104ms/step - loss: 0.0010 - val_loss: 3.9674e-04\n"
          ],
          "name": "stdout"
        },
        {
          "output_type": "execute_result",
          "data": {
            "text/plain": [
              "<keras.callbacks.History at 0x7fa8f52fe310>"
            ]
          },
          "metadata": {
            "tags": []
          },
          "execution_count": 21
        }
      ]
    },
    {
      "cell_type": "code",
      "metadata": {
        "id": "iIQm2AFdd1yz"
      },
      "source": [
        "# Making prediction for the test data\n",
        "y_pred = model.predict(x_test)"
      ],
      "execution_count": null,
      "outputs": []
    },
    {
      "cell_type": "code",
      "metadata": {
        "colab": {
          "base_uri": "https://localhost:8080/"
        },
        "id": "VXt4RB5LZrbl",
        "outputId": "56ad12b1-8b8f-4c0d-ae25-43108cea3651"
      },
      "source": [
        "# Inverse the Scaling \n",
        "y_pred = sc.inverse_transform(y_pred)\n",
        "y_test = sc.inverse_transform(y_test)"
      ],
      "execution_count": null,
      "outputs": [
        {
          "output_type": "execute_result",
          "data": {
            "text/plain": [
              "array([[784.7712 ],\n",
              "       [781.98315],\n",
              "       [784.5117 ],\n",
              "       [786.3028 ],\n",
              "       [790.24115],\n",
              "       [797.08813],\n",
              "       [801.3195 ],\n",
              "       [801.1084 ],\n",
              "       [800.8608 ],\n",
              "       [801.2917 ],\n",
              "       [801.8632 ],\n",
              "       [801.9516 ],\n",
              "       [801.8448 ],\n",
              "       [802.6923 ],\n",
              "       [803.626  ],\n",
              "       [810.3065 ],\n",
              "       [817.8691 ],\n",
              "       [824.4937 ],\n",
              "       [825.661  ],\n",
              "       [816.776  ]], dtype=float32)"
            ]
          },
          "metadata": {
            "tags": []
          },
          "execution_count": 24
        }
      ]
    },
    {
      "cell_type": "code",
      "metadata": {
        "colab": {
          "base_uri": "https://localhost:8080/",
          "height": 295
        },
        "id": "Y7u8sBJyPdtB",
        "outputId": "7a6fb60f-6674-439f-b377-d9d72d1bedc3"
      },
      "source": [
        "# Visualizeing the data\n",
        "xAxis = np.linspace(0, 20, 20)\n",
        "plt.plot(xAxis, y_test, label='Real Google Stock Price')\n",
        "plt.plot(xAxis, y_pred, label='Predicted Google Stock Price')\n",
        "plt.title('Google Stock Price')\n",
        "plt.xlabel('Time')\n",
        "plt.ylabel('Price')\n",
        "plt.legend()\n",
        "plt.show()"
      ],
      "execution_count": null,
      "outputs": [
        {
          "output_type": "display_data",
          "data": {
            "image/png": "[encoded data removed]",
            "text/plain": [
              "<Figure size 432x288 with 1 Axes>"
            ]
          },
          "metadata": {
            "tags": [],
            "needs_background": "light"
          }
        }
      ]
    }
  ]
}