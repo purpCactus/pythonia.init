{
  "nbformat": 4,
  "nbformat_minor": 0,
  "metadata": {
    "colab": {
      "name": "RNN-AirlineProject.ipynb",
      "provenance": [],
      "collapsed_sections": [],
      "authorship_tag": "ABX9TyPHcuPIdsgxsd34s/w1PvC2",
      "include_colab_link": true
    },
    "kernelspec": {
      "name": "python3",
      "display_name": "Python 3"
    },
    "language_info": {
      "name": "python"
    }
  },
  "cells": [
    {
      "cell_type": "markdown",
      "metadata": {
        "id": "view-in-github",
        "colab_type": "text"
      },
      "source": [
        "<a href=\"https://colab.research.google.com/github/purpCactus/pythonia.init/blob/main/Session_10/RNN_AirlineProject.ipynb\" target=\"_parent\"><img src=\"https://colab.research.google.com/assets/colab-badge.svg\" alt=\"Open In Colab\"/></a>"
      ]
    },
    {
      "cell_type": "markdown",
      "metadata": {
        "id": "TT2xmzkN3reN"
      },
      "source": [
        "# Importing libs"
      ]
    },
    {
      "cell_type": "code",
      "metadata": {
        "id": "C8SB4uuJDgpb"
      },
      "source": [
        "import numpy as np\n",
        "import matplotlib.pyplot as plt\n",
        "import pandas as pd"
      ],
      "execution_count": null,
      "outputs": []
    },
    {
      "cell_type": "markdown",
      "metadata": {
        "id": "ZbDOJrcI3u77"
      },
      "source": [
        "# Read and splitting the data"
      ]
    },
    {
      "cell_type": "code",
      "metadata": {
        "id": "7A5y5WD1DtLr"
      },
      "source": [
        "dataset = pd.read_csv('/content/datasets_11956_16450_international-airline-passengers.csv')\n",
        "training_set = dataset.iloc[0:100,1:2].values\n",
        "test_set = dataset.iloc[100:144,1:2].values\n",
        "whole_set = dataset.iloc[:,1:2].values"
      ],
      "execution_count": null,
      "outputs": []
    },
    {
      "cell_type": "markdown",
      "metadata": {
        "id": "yMTphUtB32Tc"
      },
      "source": [
        "# Scaling data"
      ]
    },
    {
      "cell_type": "code",
      "metadata": {
        "id": "nE0SOMll9Psz"
      },
      "source": [
        "from sklearn.preprocessing import RobustScaler\n",
        "sc = RobustScaler()\n",
        "whole_set_scaled = sc.fit_transform(whole_set)"
      ],
      "execution_count": null,
      "outputs": []
    },
    {
      "cell_type": "markdown",
      "metadata": {
        "id": "nQwfyeMa38pT"
      },
      "source": [
        "# Splitting Test and Train datasets"
      ]
    },
    {
      "cell_type": "code",
      "metadata": {
        "id": "yuFVaNGE9kpl"
      },
      "source": [
        "x_train = whole_set_scaled[0:100, 0:1]\n",
        "y_train = whole_set_scaled[0:100, 0:1]\n",
        "x_test = whole_set_scaled[100:144, 0:1]\n",
        "y_test = whole_set_scaled[100:144, 0:1]"
      ],
      "execution_count": null,
      "outputs": []
    },
    {
      "cell_type": "markdown",
      "metadata": {
        "id": "jPEtPEiy4Grz"
      },
      "source": [
        "# Reshaping datasets to 3D ndarrays for LSTM model"
      ]
    },
    {
      "cell_type": "code",
      "metadata": {
        "id": "C_YTZisgKWZp"
      },
      "source": [
        "x_train = np.reshape(x_train,(x_train.shape[0], x_train.shape[1], 1))\n",
        "x_test = np.reshape(x_test, (x_test.shape[0], x_test.shape[1], 1))"
      ],
      "execution_count": null,
      "outputs": []
    },
    {
      "cell_type": "markdown",
      "metadata": {
        "id": "ZvzNxLY64VA7"
      },
      "source": [
        "# Building the RNN model"
      ]
    },
    {
      "cell_type": "code",
      "metadata": {
        "id": "Ipu11d3dJaCf",
        "colab": {
          "base_uri": "https://localhost:8080/"
        },
        "outputId": "1ef3b46e-0334-4e8a-fc4c-7cc5c962033f"
      },
      "source": [
        "from keras.models import Sequential\n",
        "from keras.layers import Dense, LSTM, Dropout\n",
        "\n",
        "model = Sequential()\n",
        "\n",
        "# LSTM first layer\n",
        "model.add(LSTM(units=5, return_sequences=True, input_shape=(x_train.shape[1], 1)))\n",
        "# LSTM second layer\n",
        "model.add(LSTM(units=2, return_sequences=False))\n",
        "# Dense ourput layer\n",
        "model.add(Dense(units=1))\n",
        "\n",
        "# Compile\n",
        "model.compile(optimizer='adam', loss='mean_squared_error')\n",
        "# Fit\n",
        "model.fit(x_train, y_train, epochs=150, batch_size=1, validation_data=(x_test, y_test))"
      ],
      "execution_count": null,
      "outputs": [
        {
          "output_type": "stream",
          "text": [
            "Epoch 1/150\n",
            "100/100 [==============================] - 20s 14ms/step - loss: 0.2454 - val_loss: 1.0176\n",
            "Epoch 2/150\n",
            "100/100 [==============================] - 0s 2ms/step - loss: 0.1797 - val_loss: 1.0944\n",
            "Epoch 3/150\n",
            "100/100 [==============================] - 0s 3ms/step - loss: 0.1458 - val_loss: 1.1039\n",
            "Epoch 4/150\n",
            "100/100 [==============================] - 0s 3ms/step - loss: 0.1218 - val_loss: 1.0366\n",
            "Epoch 5/150\n",
            "100/100 [==============================] - 0s 3ms/step - loss: 0.0766 - val_loss: 0.9276\n",
            "Epoch 6/150\n",
            "100/100 [==============================] - 0s 3ms/step - loss: 0.0519 - val_loss: 0.8138\n",
            "Epoch 7/150\n",
            "100/100 [==============================] - 0s 3ms/step - loss: 0.0433 - val_loss: 0.7037\n",
            "Epoch 8/150\n",
            "100/100 [==============================] - 0s 3ms/step - loss: 0.0285 - val_loss: 0.6168\n",
            "Epoch 9/150\n",
            "100/100 [==============================] - 0s 3ms/step - loss: 0.0127 - val_loss: 0.5496\n",
            "Epoch 10/150\n",
            "100/100 [==============================] - 0s 2ms/step - loss: 0.0113 - val_loss: 0.4991\n",
            "Epoch 11/150\n",
            "100/100 [==============================] - 0s 3ms/step - loss: 0.0192 - val_loss: 0.4581\n",
            "Epoch 12/150\n",
            "100/100 [==============================] - 0s 2ms/step - loss: 0.0083 - val_loss: 0.4229\n",
            "Epoch 13/150\n",
            "100/100 [==============================] - 0s 3ms/step - loss: 0.0039 - val_loss: 0.3999\n",
            "Epoch 14/150\n",
            "100/100 [==============================] - 0s 3ms/step - loss: 0.0050 - val_loss: 0.3776\n",
            "Epoch 15/150\n",
            "100/100 [==============================] - 0s 2ms/step - loss: 0.0044 - val_loss: 0.3549\n",
            "Epoch 16/150\n",
            "100/100 [==============================] - 0s 3ms/step - loss: 0.0072 - val_loss: 0.3419\n",
            "Epoch 17/150\n",
            "100/100 [==============================] - 0s 2ms/step - loss: 0.0029 - val_loss: 0.3194\n",
            "Epoch 18/150\n",
            "100/100 [==============================] - 0s 3ms/step - loss: 0.0055 - val_loss: 0.3076\n",
            "Epoch 19/150\n",
            "100/100 [==============================] - 0s 3ms/step - loss: 0.0023 - val_loss: 0.2947\n",
            "Epoch 20/150\n",
            "100/100 [==============================] - 0s 2ms/step - loss: 0.0034 - val_loss: 0.2829\n",
            "Epoch 21/150\n",
            "100/100 [==============================] - 0s 3ms/step - loss: 0.0030 - val_loss: 0.2740\n",
            "Epoch 22/150\n",
            "100/100 [==============================] - 0s 3ms/step - loss: 0.0037 - val_loss: 0.2613\n",
            "Epoch 23/150\n",
            "100/100 [==============================] - 0s 3ms/step - loss: 0.0029 - val_loss: 0.2531\n",
            "Epoch 24/150\n",
            "100/100 [==============================] - 0s 2ms/step - loss: 0.0043 - val_loss: 0.2474\n",
            "Epoch 25/150\n",
            "100/100 [==============================] - 0s 3ms/step - loss: 0.0018 - val_loss: 0.2406\n",
            "Epoch 26/150\n",
            "100/100 [==============================] - 0s 3ms/step - loss: 0.0029 - val_loss: 0.2310\n",
            "Epoch 27/150\n",
            "100/100 [==============================] - 0s 3ms/step - loss: 0.0039 - val_loss: 0.2296\n",
            "Epoch 28/150\n",
            "100/100 [==============================] - 0s 3ms/step - loss: 0.0025 - val_loss: 0.2207\n",
            "Epoch 29/150\n",
            "100/100 [==============================] - 0s 3ms/step - loss: 0.0029 - val_loss: 0.2180\n",
            "Epoch 30/150\n",
            "100/100 [==============================] - 0s 3ms/step - loss: 0.0034 - val_loss: 0.2131\n",
            "Epoch 31/150\n",
            "100/100 [==============================] - 0s 3ms/step - loss: 0.0024 - val_loss: 0.2075\n",
            "Epoch 32/150\n",
            "100/100 [==============================] - 0s 3ms/step - loss: 0.0024 - val_loss: 0.2052\n",
            "Epoch 33/150\n",
            "100/100 [==============================] - 0s 3ms/step - loss: 0.0014 - val_loss: 0.1993\n",
            "Epoch 34/150\n",
            "100/100 [==============================] - 0s 2ms/step - loss: 0.0015 - val_loss: 0.1888\n",
            "Epoch 35/150\n",
            "100/100 [==============================] - 0s 3ms/step - loss: 0.0022 - val_loss: 0.1876\n",
            "Epoch 36/150\n",
            "100/100 [==============================] - 0s 3ms/step - loss: 0.0014 - val_loss: 0.1839\n",
            "Epoch 37/150\n",
            "100/100 [==============================] - 0s 3ms/step - loss: 0.0012 - val_loss: 0.1783\n",
            "Epoch 38/150\n",
            "100/100 [==============================] - 0s 2ms/step - loss: 0.0036 - val_loss: 0.1825\n",
            "Epoch 39/150\n",
            "100/100 [==============================] - 0s 3ms/step - loss: 0.0020 - val_loss: 0.1761\n",
            "Epoch 40/150\n",
            "100/100 [==============================] - 0s 3ms/step - loss: 0.0014 - val_loss: 0.1700\n",
            "Epoch 41/150\n",
            "100/100 [==============================] - 0s 3ms/step - loss: 0.0012 - val_loss: 0.1705\n",
            "Epoch 42/150\n",
            "100/100 [==============================] - 0s 2ms/step - loss: 0.0013 - val_loss: 0.1643\n",
            "Epoch 43/150\n",
            "100/100 [==============================] - 0s 3ms/step - loss: 0.0015 - val_loss: 0.1614\n",
            "Epoch 44/150\n",
            "100/100 [==============================] - 0s 3ms/step - loss: 0.0010 - val_loss: 0.1574\n",
            "Epoch 45/150\n",
            "100/100 [==============================] - 0s 2ms/step - loss: 9.9866e-04 - val_loss: 0.1565\n",
            "Epoch 46/150\n",
            "100/100 [==============================] - 0s 3ms/step - loss: 0.0022 - val_loss: 0.1538\n",
            "Epoch 47/150\n",
            "100/100 [==============================] - 0s 2ms/step - loss: 0.0018 - val_loss: 0.1500\n",
            "Epoch 48/150\n",
            "100/100 [==============================] - 0s 3ms/step - loss: 0.0010 - val_loss: 0.1458\n",
            "Epoch 49/150\n",
            "100/100 [==============================] - 0s 3ms/step - loss: 0.0011 - val_loss: 0.1455\n",
            "Epoch 50/150\n",
            "100/100 [==============================] - 0s 2ms/step - loss: 0.0011 - val_loss: 0.1403\n",
            "Epoch 51/150\n",
            "100/100 [==============================] - 0s 3ms/step - loss: 7.9293e-04 - val_loss: 0.1371\n",
            "Epoch 52/150\n",
            "100/100 [==============================] - 0s 3ms/step - loss: 0.0012 - val_loss: 0.1350\n",
            "Epoch 53/150\n",
            "100/100 [==============================] - 0s 3ms/step - loss: 8.7695e-04 - val_loss: 0.1334\n",
            "Epoch 54/150\n",
            "100/100 [==============================] - 0s 3ms/step - loss: 8.2281e-04 - val_loss: 0.1305\n",
            "Epoch 55/150\n",
            "100/100 [==============================] - 0s 3ms/step - loss: 6.4585e-04 - val_loss: 0.1301\n",
            "Epoch 56/150\n",
            "100/100 [==============================] - 0s 3ms/step - loss: 7.8208e-04 - val_loss: 0.1302\n",
            "Epoch 57/150\n",
            "100/100 [==============================] - 0s 3ms/step - loss: 0.0015 - val_loss: 0.1271\n",
            "Epoch 58/150\n",
            "100/100 [==============================] - 0s 3ms/step - loss: 5.1817e-04 - val_loss: 0.1209\n",
            "Epoch 59/150\n",
            "100/100 [==============================] - 0s 3ms/step - loss: 9.1419e-04 - val_loss: 0.1172\n",
            "Epoch 60/150\n",
            "100/100 [==============================] - 0s 3ms/step - loss: 9.5483e-04 - val_loss: 0.1213\n",
            "Epoch 61/150\n",
            "100/100 [==============================] - 0s 3ms/step - loss: 5.6454e-04 - val_loss: 0.1146\n",
            "Epoch 62/150\n",
            "100/100 [==============================] - 0s 2ms/step - loss: 8.2582e-04 - val_loss: 0.1189\n",
            "Epoch 63/150\n",
            "100/100 [==============================] - 0s 3ms/step - loss: 8.3857e-04 - val_loss: 0.1143\n",
            "Epoch 64/150\n",
            "100/100 [==============================] - 0s 3ms/step - loss: 7.3656e-04 - val_loss: 0.1117\n",
            "Epoch 65/150\n",
            "100/100 [==============================] - 0s 3ms/step - loss: 9.2844e-04 - val_loss: 0.1130\n",
            "Epoch 66/150\n",
            "100/100 [==============================] - 0s 3ms/step - loss: 0.0013 - val_loss: 0.1076\n",
            "Epoch 67/150\n",
            "100/100 [==============================] - 0s 3ms/step - loss: 5.8836e-04 - val_loss: 0.1069\n",
            "Epoch 68/150\n",
            "100/100 [==============================] - 0s 2ms/step - loss: 4.6311e-04 - val_loss: 0.1068\n",
            "Epoch 69/150\n",
            "100/100 [==============================] - 0s 3ms/step - loss: 6.2228e-04 - val_loss: 0.0999\n",
            "Epoch 70/150\n",
            "100/100 [==============================] - 0s 3ms/step - loss: 5.8701e-04 - val_loss: 0.1009\n",
            "Epoch 71/150\n",
            "100/100 [==============================] - 0s 2ms/step - loss: 5.3150e-04 - val_loss: 0.0990\n",
            "Epoch 72/150\n",
            "100/100 [==============================] - 0s 2ms/step - loss: 5.4049e-04 - val_loss: 0.0962\n",
            "Epoch 73/150\n",
            "100/100 [==============================] - 0s 3ms/step - loss: 7.8799e-04 - val_loss: 0.0979\n",
            "Epoch 74/150\n",
            "100/100 [==============================] - 0s 3ms/step - loss: 4.8612e-04 - val_loss: 0.0954\n",
            "Epoch 75/150\n",
            "100/100 [==============================] - 0s 2ms/step - loss: 4.8161e-04 - val_loss: 0.0898\n",
            "Epoch 76/150\n",
            "100/100 [==============================] - 0s 3ms/step - loss: 5.0982e-04 - val_loss: 0.0891\n",
            "Epoch 77/150\n",
            "100/100 [==============================] - 0s 2ms/step - loss: 7.3660e-04 - val_loss: 0.0927\n",
            "Epoch 78/150\n",
            "100/100 [==============================] - 0s 3ms/step - loss: 4.7793e-04 - val_loss: 0.0883\n",
            "Epoch 79/150\n",
            "100/100 [==============================] - 0s 3ms/step - loss: 7.9326e-04 - val_loss: 0.0906\n",
            "Epoch 80/150\n",
            "100/100 [==============================] - 0s 2ms/step - loss: 5.3347e-04 - val_loss: 0.0874\n",
            "Epoch 81/150\n",
            "100/100 [==============================] - 0s 3ms/step - loss: 4.4039e-04 - val_loss: 0.0830\n",
            "Epoch 82/150\n",
            "100/100 [==============================] - 0s 3ms/step - loss: 6.8720e-04 - val_loss: 0.0837\n",
            "Epoch 83/150\n",
            "100/100 [==============================] - 0s 3ms/step - loss: 5.3648e-04 - val_loss: 0.0813\n",
            "Epoch 84/150\n",
            "100/100 [==============================] - 0s 3ms/step - loss: 4.0576e-04 - val_loss: 0.0800\n",
            "Epoch 85/150\n",
            "100/100 [==============================] - 0s 3ms/step - loss: 5.3760e-04 - val_loss: 0.0781\n",
            "Epoch 86/150\n",
            "100/100 [==============================] - 0s 2ms/step - loss: 3.7237e-04 - val_loss: 0.0761\n",
            "Epoch 87/150\n",
            "100/100 [==============================] - 0s 3ms/step - loss: 3.7647e-04 - val_loss: 0.0730\n",
            "Epoch 88/150\n",
            "100/100 [==============================] - 0s 3ms/step - loss: 3.2699e-04 - val_loss: 0.0738\n",
            "Epoch 89/150\n",
            "100/100 [==============================] - 0s 3ms/step - loss: 6.6965e-04 - val_loss: 0.0744\n",
            "Epoch 90/150\n",
            "100/100 [==============================] - 0s 3ms/step - loss: 2.9503e-04 - val_loss: 0.0715\n",
            "Epoch 91/150\n",
            "100/100 [==============================] - 0s 3ms/step - loss: 2.9296e-04 - val_loss: 0.0679\n",
            "Epoch 92/150\n",
            "100/100 [==============================] - 0s 3ms/step - loss: 3.4073e-04 - val_loss: 0.0686\n",
            "Epoch 93/150\n",
            "100/100 [==============================] - 0s 3ms/step - loss: 5.0634e-04 - val_loss: 0.0689\n",
            "Epoch 94/150\n",
            "100/100 [==============================] - 0s 3ms/step - loss: 4.6636e-04 - val_loss: 0.0688\n",
            "Epoch 95/150\n",
            "100/100 [==============================] - 0s 3ms/step - loss: 3.1397e-04 - val_loss: 0.0648\n",
            "Epoch 96/150\n",
            "100/100 [==============================] - 0s 3ms/step - loss: 2.4018e-04 - val_loss: 0.0625\n",
            "Epoch 97/150\n",
            "100/100 [==============================] - 0s 3ms/step - loss: 3.5216e-04 - val_loss: 0.0619\n",
            "Epoch 98/150\n",
            "100/100 [==============================] - 0s 3ms/step - loss: 2.5380e-04 - val_loss: 0.0597\n",
            "Epoch 99/150\n",
            "100/100 [==============================] - 0s 3ms/step - loss: 2.5280e-04 - val_loss: 0.0593\n",
            "Epoch 100/150\n",
            "100/100 [==============================] - 0s 3ms/step - loss: 2.1188e-04 - val_loss: 0.0570\n",
            "Epoch 101/150\n",
            "100/100 [==============================] - 0s 3ms/step - loss: 3.3146e-04 - val_loss: 0.0581\n",
            "Epoch 102/150\n",
            "100/100 [==============================] - 0s 3ms/step - loss: 3.3354e-04 - val_loss: 0.0576\n",
            "Epoch 103/150\n",
            "100/100 [==============================] - 0s 3ms/step - loss: 2.4545e-04 - val_loss: 0.0520\n",
            "Epoch 104/150\n",
            "100/100 [==============================] - 0s 3ms/step - loss: 2.1863e-04 - val_loss: 0.0524\n",
            "Epoch 105/150\n",
            "100/100 [==============================] - 0s 3ms/step - loss: 1.8795e-04 - val_loss: 0.0516\n",
            "Epoch 106/150\n",
            "100/100 [==============================] - 0s 3ms/step - loss: 2.4419e-04 - val_loss: 0.0510\n",
            "Epoch 107/150\n",
            "100/100 [==============================] - 0s 3ms/step - loss: 1.9200e-04 - val_loss: 0.0484\n",
            "Epoch 108/150\n",
            "100/100 [==============================] - 0s 3ms/step - loss: 3.0901e-04 - val_loss: 0.0494\n",
            "Epoch 109/150\n",
            "100/100 [==============================] - 0s 3ms/step - loss: 1.4322e-04 - val_loss: 0.0451\n",
            "Epoch 110/150\n",
            "100/100 [==============================] - 0s 3ms/step - loss: 2.8123e-04 - val_loss: 0.0474\n",
            "Epoch 111/150\n",
            "100/100 [==============================] - 0s 2ms/step - loss: 1.6638e-04 - val_loss: 0.0463\n",
            "Epoch 112/150\n",
            "100/100 [==============================] - 0s 3ms/step - loss: 1.4861e-04 - val_loss: 0.0448\n",
            "Epoch 113/150\n",
            "100/100 [==============================] - 0s 3ms/step - loss: 1.6540e-04 - val_loss: 0.0434\n",
            "Epoch 114/150\n",
            "100/100 [==============================] - 0s 3ms/step - loss: 2.1519e-04 - val_loss: 0.0427\n",
            "Epoch 115/150\n",
            "100/100 [==============================] - 0s 3ms/step - loss: 1.2114e-04 - val_loss: 0.0419\n",
            "Epoch 116/150\n",
            "100/100 [==============================] - 0s 3ms/step - loss: 1.0349e-04 - val_loss: 0.0411\n",
            "Epoch 117/150\n",
            "100/100 [==============================] - 0s 3ms/step - loss: 1.6987e-04 - val_loss: 0.0379\n",
            "Epoch 118/150\n",
            "100/100 [==============================] - 0s 3ms/step - loss: 1.7520e-04 - val_loss: 0.0378\n",
            "Epoch 119/150\n",
            "100/100 [==============================] - 0s 3ms/step - loss: 1.6320e-04 - val_loss: 0.0385\n",
            "Epoch 120/150\n",
            "100/100 [==============================] - 0s 3ms/step - loss: 1.0939e-04 - val_loss: 0.0358\n",
            "Epoch 121/150\n",
            "100/100 [==============================] - 0s 3ms/step - loss: 9.0376e-05 - val_loss: 0.0346\n",
            "Epoch 122/150\n",
            "100/100 [==============================] - 0s 3ms/step - loss: 7.2955e-05 - val_loss: 0.0326\n",
            "Epoch 123/150\n",
            "100/100 [==============================] - 0s 3ms/step - loss: 6.5387e-05 - val_loss: 0.0311\n",
            "Epoch 124/150\n",
            "100/100 [==============================] - 0s 3ms/step - loss: 8.9364e-05 - val_loss: 0.0295\n",
            "Epoch 125/150\n",
            "100/100 [==============================] - 0s 3ms/step - loss: 8.4766e-05 - val_loss: 0.0326\n",
            "Epoch 126/150\n",
            "100/100 [==============================] - 0s 3ms/step - loss: 1.1667e-04 - val_loss: 0.0322\n",
            "Epoch 127/150\n",
            "100/100 [==============================] - 0s 3ms/step - loss: 7.6141e-05 - val_loss: 0.0308\n",
            "Epoch 128/150\n",
            "100/100 [==============================] - 0s 3ms/step - loss: 8.1085e-05 - val_loss: 0.0280\n",
            "Epoch 129/150\n",
            "100/100 [==============================] - 0s 3ms/step - loss: 1.1946e-04 - val_loss: 0.0285\n",
            "Epoch 130/150\n",
            "100/100 [==============================] - 0s 3ms/step - loss: 5.7575e-05 - val_loss: 0.0275\n",
            "Epoch 131/150\n",
            "100/100 [==============================] - 0s 3ms/step - loss: 3.0742e-05 - val_loss: 0.0261\n",
            "Epoch 132/150\n",
            "100/100 [==============================] - 0s 3ms/step - loss: 5.5691e-05 - val_loss: 0.0255\n",
            "Epoch 133/150\n",
            "100/100 [==============================] - 0s 3ms/step - loss: 3.5190e-05 - val_loss: 0.0247\n",
            "Epoch 134/150\n",
            "100/100 [==============================] - 0s 3ms/step - loss: 3.1064e-05 - val_loss: 0.0242\n",
            "Epoch 135/150\n",
            "100/100 [==============================] - 0s 3ms/step - loss: 4.1710e-05 - val_loss: 0.0240\n",
            "Epoch 136/150\n",
            "100/100 [==============================] - 0s 3ms/step - loss: 2.4937e-05 - val_loss: 0.0232\n",
            "Epoch 137/150\n",
            "100/100 [==============================] - 0s 3ms/step - loss: 2.1793e-05 - val_loss: 0.0226\n",
            "Epoch 138/150\n",
            "100/100 [==============================] - 0s 3ms/step - loss: 1.9682e-05 - val_loss: 0.0213\n",
            "Epoch 139/150\n",
            "100/100 [==============================] - 0s 3ms/step - loss: 1.9445e-05 - val_loss: 0.0211\n",
            "Epoch 140/150\n",
            "100/100 [==============================] - 0s 3ms/step - loss: 2.4304e-05 - val_loss: 0.0204\n",
            "Epoch 141/150\n",
            "100/100 [==============================] - 0s 3ms/step - loss: 1.8064e-05 - val_loss: 0.0208\n",
            "Epoch 142/150\n",
            "100/100 [==============================] - 0s 3ms/step - loss: 2.3549e-05 - val_loss: 0.0206\n",
            "Epoch 143/150\n",
            "100/100 [==============================] - 0s 3ms/step - loss: 2.1857e-05 - val_loss: 0.0186\n",
            "Epoch 144/150\n",
            "100/100 [==============================] - 0s 3ms/step - loss: 1.2980e-05 - val_loss: 0.0195\n",
            "Epoch 145/150\n",
            "100/100 [==============================] - 0s 3ms/step - loss: 7.8684e-06 - val_loss: 0.0184\n",
            "Epoch 146/150\n",
            "100/100 [==============================] - 0s 3ms/step - loss: 1.1371e-05 - val_loss: 0.0184\n",
            "Epoch 147/150\n",
            "100/100 [==============================] - 0s 3ms/step - loss: 7.8203e-06 - val_loss: 0.0185\n",
            "Epoch 148/150\n",
            "100/100 [==============================] - 0s 3ms/step - loss: 1.2690e-05 - val_loss: 0.0179\n",
            "Epoch 149/150\n",
            "100/100 [==============================] - 0s 3ms/step - loss: 3.4486e-06 - val_loss: 0.0174\n",
            "Epoch 150/150\n",
            "100/100 [==============================] - 0s 3ms/step - loss: 8.2231e-06 - val_loss: 0.0180\n"
          ],
          "name": "stdout"
        },
        {
          "output_type": "execute_result",
          "data": {
            "text/plain": [
              "<keras.callbacks.History at 0x7f5a8bdfe250>"
            ]
          },
          "metadata": {
            "tags": []
          },
          "execution_count": 6
        }
      ]
    },
    {
      "cell_type": "markdown",
      "metadata": {
        "id": "wPYR0RuK4cGE"
      },
      "source": [
        "# Making prediction for the test set"
      ]
    },
    {
      "cell_type": "code",
      "metadata": {
        "id": "NRTrqd95KOlo"
      },
      "source": [
        "x_test_pred = model.predict(x_test)"
      ],
      "execution_count": null,
      "outputs": []
    },
    {
      "cell_type": "markdown",
      "metadata": {
        "id": "fzjd7-Yp4p1N"
      },
      "source": [
        "# Making prediction for the train set"
      ]
    },
    {
      "cell_type": "code",
      "metadata": {
        "id": "KahjV5jB3dN3"
      },
      "source": [
        "x_train_pred = model.predict(x_train)"
      ],
      "execution_count": null,
      "outputs": []
    },
    {
      "cell_type": "markdown",
      "metadata": {
        "id": "6LgRQEkL4tyj"
      },
      "source": [
        "# Inverse the Scaling for better visualization"
      ]
    },
    {
      "cell_type": "code",
      "metadata": {
        "id": "DgeeLL-_0Vdc"
      },
      "source": [
        "# x_train_pred = np.reshape(x_train_pred, (-1, 1))\n",
        "x_train_pred = sc.inverse_transform(x_train_pred)\n",
        "x_test_pred = sc.inverse_transform(x_test_pred)"
      ],
      "execution_count": null,
      "outputs": []
    },
    {
      "cell_type": "markdown",
      "metadata": {
        "id": "rVj4lG2W41yr"
      },
      "source": [
        "# Visualizing the result"
      ]
    },
    {
      "cell_type": "code",
      "metadata": {
        "id": "g9WMBKX0NiME",
        "colab": {
          "base_uri": "https://localhost:8080/",
          "height": 265
        },
        "outputId": "7dcc48e3-c8f7-4fa5-ae73-8e7673eb6524"
      },
      "source": [
        "xAxis = np.linspace(0, 144, 144)\n",
        "plt.plot(xAxis, whole_set, label='Real data')\n",
        "xAxis = np.linspace(0, 100, num=100)\n",
        "plt.plot(xAxis, x_train_pred, 'green', label='Predicted train data')\n",
        "xAxis = np.linspace(100, 144, 44)\n",
        "plt.plot(xAxis, x_test_pred, 'red', label='Predicted test data')\n",
        "plt.legend()\n",
        "plt.show()"
      ],
      "execution_count": null,
      "outputs": [
        {
          "output_type": "display_data",
          "data": {
            "image/png": "[encoded data removed]",
            "text/plain": [
              "<Figure size 432x288 with 1 Axes>"
            ]
          },
          "metadata": {
            "tags": [],
            "needs_background": "light"
          }
        }
      ]
    }
  ]
}