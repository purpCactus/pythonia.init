{
  "nbformat": 4,
  "nbformat_minor": 0,
  "metadata": {
    "colab": {
      "name": "NumberClassifier.ipynb",
      "provenance": [],
      "mount_file_id": "1o698bDut8vquGacRWoFkLlyxphdBn-v6",
      "authorship_tag": "ABX9TyMCrW8uOWaLfYD2M5nxV/2e",
      "include_colab_link": true
    },
    "kernelspec": {
      "name": "python3",
      "display_name": "Python 3"
    },
    "language_info": {
      "name": "python"
    }
  },
  "cells": [
    {
      "cell_type": "markdown",
      "metadata": {
        "id": "view-in-github",
        "colab_type": "text"
      },
      "source": [
        "<a href=\"https://colab.research.google.com/github/purpCactus/pythonia.init/blob/main/Session%207/NumberClassifier.ipynb\" target=\"_parent\"><img src=\"https://colab.research.google.com/assets/colab-badge.svg\" alt=\"Open In Colab\"/></a>"
      ]
    },
    {
      "cell_type": "markdown",
      "metadata": {
        "id": "QkJvUZCrd_y2"
      },
      "source": [
        "# Number Classifier\n",
        "1 2 5\n",
        "\n",
        "Author: Ehsan Hosseini (esi.fury11@gmail.com)"
      ]
    },
    {
      "cell_type": "code",
      "metadata": {
        "id": "LOKMXurAeIRF"
      },
      "source": [
        "import cv2\n",
        "import matplotlib.pyplot as plt\n",
        "import matplotlib.image as mpimg\n",
        "import numpy as np\n",
        "import sys\n",
        "import glob\n",
        "\n",
        "from IPython.display import display\n",
        "from PIL import Image\n",
        "from sklearn import svm"
      ],
      "execution_count": null,
      "outputs": []
    },
    {
      "cell_type": "markdown",
      "metadata": {
        "id": "j_TLW2DrfDdv"
      },
      "source": [
        "# Storing the data and converting images to grayscale"
      ]
    },
    {
      "cell_type": "code",
      "metadata": {
        "id": "z24RaOhafEqv"
      },
      "source": [
        "ones = glob.glob('./HodaSmallSubset/1/*.png')\n",
        "twos = glob.glob('./HodaSmallSubset/2/*.png')\n",
        "fives = glob.glob('./HodaSmallSubset/5/*.png')\n",
        "onesImg = list()\n",
        "twosImg = list()\n",
        "fivesImg = list()\n",
        "\n",
        "for i in range(len(ones)):\n",
        "    img = np.array(Image.open(ones[i]).convert('L'))\n",
        "    onesImg.append(img)\n",
        "    img = np.array(Image.open(twos[i]).convert('L'))\n",
        "    twosImg.append(img)\n",
        "    img = np.array(Image.open(fives[i]).convert('L'))\n",
        "    fivesImg.append(img)"
      ],
      "execution_count": null,
      "outputs": []
    },
    {
      "cell_type": "markdown",
      "metadata": {
        "id": "Ox-55aaIfG46"
      },
      "source": [
        "# Defining the descriptor\n",
        "we resize the images and perform a threshold.\n",
        "it returns a flatted array of image."
      ]
    },
    {
      "cell_type": "code",
      "metadata": {
        "id": "vQjQI6eNfJDc"
      },
      "source": [
        "def descriptor(img):\n",
        "    dim = (9, 30)\n",
        "    resized = cv2.resize(img, dim, interpolation = cv2.INTER_LINEAR)\n",
        "    resized = cv2.adaptiveThreshold(resized,255,cv2.ADAPTIVE_THRESH_MEAN_C, cv2.THRESH_BINARY,11,2)\n",
        "    return resized.flatten()"
      ],
      "execution_count": null,
      "outputs": []
    },
    {
      "cell_type": "markdown",
      "metadata": {
        "id": "cs1FAWJxfM9f"
      },
      "source": [
        "# Giving images to the descriptor and storing the data\n"
      ]
    },
    {
      "cell_type": "code",
      "metadata": {
        "id": "ra7rjp04fON2"
      },
      "source": [
        "X = []\n",
        "Y = []\n",
        "for i in onesImg:\n",
        "    des = descriptor(i)\n",
        "    X.append(des)\n",
        "    Y.append(1)\n",
        "for i in twosImg:\n",
        "    des = descriptor(i)\n",
        "    X.append(des)\n",
        "    Y.append(2)\n",
        "for i in fivesImg:\n",
        "    des = descriptor(i)\n",
        "    X.append(des)\n",
        "    Y.append(5)"
      ],
      "execution_count": null,
      "outputs": []
    },
    {
      "cell_type": "markdown",
      "metadata": {
        "id": "2YfpVNZKfS7f"
      },
      "source": [
        "# Training\n",
        "using svm classifier."
      ]
    },
    {
      "cell_type": "code",
      "metadata": {
        "id": "YVlugjpufTSm"
      },
      "source": [
        "clf = svm.SVC(kernel='rbf')\n",
        "clf.fit(X, Y)"
      ],
      "execution_count": null,
      "outputs": []
    },
    {
      "cell_type": "markdown",
      "metadata": {
        "id": "QIx1alKEfVlH"
      },
      "source": [
        "# Testing"
      ]
    },
    {
      "cell_type": "code",
      "metadata": {
        "id": "nODnB2FcfZJq"
      },
      "source": [
        "testAddr = glob.glob('./HodaSmallSubset/test/*.png')\n",
        "testImg = []\n",
        "for i in range(len(testAddr)):\n",
        "    img = np.array(Image.open(testAddr[i]))\n",
        "    testImg.append(img)"
      ],
      "execution_count": null,
      "outputs": []
    },
    {
      "cell_type": "code",
      "metadata": {
        "id": "cw3jOCeGfcLn"
      },
      "source": [
        "for i in testImg:\n",
        "    des = descriptor(i)\n",
        "    res = clf.predict([des])\n",
        "    \n",
        "    if res[0]==1:\n",
        "        display(Image.fromarray(i))"
      ],
      "execution_count": null,
      "outputs": []
    },
    {
      "cell_type": "code",
      "metadata": {
        "id": "KkC_7K-xlXEY"
      },
      "source": [
        ""
      ],
      "execution_count": null,
      "outputs": []
    }
  ]
}